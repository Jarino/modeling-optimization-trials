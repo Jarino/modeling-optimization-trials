{
 "cells": [
  {
   "cell_type": "markdown",
   "metadata": {},
   "source": [
    "# Clustering example"
   ]
  },
  {
   "cell_type": "code",
   "execution_count": 1,
   "metadata": {
    "collapsed": true
   },
   "outputs": [],
   "source": [
    "import numpy as np\n",
    "from matplotlib import pyplot as plt\n",
    "\n",
    "%matplotlib inline"
   ]
  },
  {
   "cell_type": "code",
   "execution_count": 43,
   "metadata": {
    "collapsed": false
   },
   "outputs": [],
   "source": [
    "# vygenerujeme si nejake body\n",
    "x_coords_1 = np.random.randint(10, high=30, size=50)\n",
    "y_coords_1 = np.random.randint(10, high=30, size=50)\n",
    "\n",
    "x_coords_2 = np.random.randint(40, high=60, size=50)\n",
    "y_coords_2 = np.random.randint(40, high=60, size=50)"
   ]
  },
  {
   "cell_type": "code",
   "execution_count": 44,
   "metadata": {
    "collapsed": false
   },
   "outputs": [
    {
     "data": {
      "text/plain": [
       "<matplotlib.collections.PathCollection at 0x1c08123fb00>"
      ]
     },
     "execution_count": 44,
     "metadata": {},
     "output_type": "execute_result"
    },
    {
     "data": {
      "image/png": "[encoded data removed]",
      "text/plain": [
       "<matplotlib.figure.Figure at 0x1c0801bc048>"
      ]
     },
     "metadata": {},
     "output_type": "display_data"
    }
   ],
   "source": [
    "plt.scatter(np.concatenate([x_coords_1,x_coords_2]), np.concatenate([y_coords_1, y_coords_2]))"
   ]
  },
  {
   "cell_type": "code",
   "execution_count": 39,
   "metadata": {
    "collapsed": false
   },
   "outputs": [
    {
     "data": {
      "text/plain": [
       "array([15, 13, 21, 23, 11, 19, 24, 25, 11, 18, 18, 12, 27, 17, 28, 25, 16,\n",
       "       14, 21, 16, 11, 24, 15, 13, 18, 26, 10, 21, 21, 25, 15, 18, 29, 10,\n",
       "       20, 20, 19, 23, 18, 10, 16, 12, 26, 25, 14, 11, 10, 11, 16, 26, 57,\n",
       "       56, 59, 56, 55, 57, 55, 58, 55, 55, 59, 59, 55, 59, 59, 57, 56, 58,\n",
       "       59, 56, 59, 55, 59, 58, 55, 57, 58, 58, 55, 59, 58, 56, 55, 55, 59,\n",
       "       56, 58, 55, 58, 58, 59, 56, 55, 59, 56, 55, 59, 59, 58, 55])"
      ]
     },
     "execution_count": 39,
     "metadata": {},
     "output_type": "execute_result"
    }
   ],
   "source": [
    "\n"
   ]
  },
  {
   "cell_type": "code",
   "execution_count": 37,
   "metadata": {
    "collapsed": false
   },
   "outputs": [
    {
     "data": {
      "text/plain": [
       "array([15, 13, 21, 23, 11, 19, 24, 25, 11, 18, 18, 12, 27, 17, 28, 25, 16,\n",
       "       14, 21, 16, 11, 24, 15, 13, 18, 26, 10, 21, 21, 25, 15, 18, 29, 10,\n",
       "       20, 20, 19, 23, 18, 10, 16, 12, 26, 25, 14, 11, 10, 11, 16, 26])"
      ]
     },
     "execution_count": 37,
     "metadata": {},
     "output_type": "execute_result"
    }
   ],
   "source": [
    "x_coords_1"
   ]
  },
  {
   "cell_type": "code",
   "execution_count": null,
   "metadata": {
    "collapsed": true
   },
   "outputs": [],
   "source": []
  }
 ],
 "metadata": {
  "anaconda-cloud": {},
  "kernelspec": {
   "display_name": "Python [conda root]",
   "language": "python",
   "name": "conda-root-py"
  },
  "language_info": {
   "codemirror_mode": {
    "name": "ipython",
    "version": 3
   },
   "file_extension": ".py",
   "mimetype": "text/x-python",
   "name": "python",
   "nbconvert_exporter": "python",
   "pygments_lexer": "ipython3",
   "version": "3.5.2"
  }
 },
 "nbformat": 4,
 "nbformat_minor": 1
}
