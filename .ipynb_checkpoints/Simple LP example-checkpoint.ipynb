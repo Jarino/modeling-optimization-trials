{
 "cells": [
  {
   "cell_type": "markdown",
   "metadata": {},
   "source": [
    "# Jednoduchý LP problém\n"
   ]
  },
  {
   "cell_type": "code",
   "execution_count": 1,
   "metadata": {
    "collapsed": false
   },
   "outputs": [],
   "source": [
    "from pyomo.environ import *\n",
    "from coopr.pyomo import *"
   ]
  },
  {
   "cell_type": "markdown",
   "metadata": {},
   "source": [
    "Pyomo poskytuje dve triedy ktoré reprezentujú model, a to `AbstractModel` a `ConcreteModel`. Rozdiel je (aspoň myslím) v tom, že v konkrétnom modeli už máme zadefinované parametre.\n",
    "\n",
    "Pyomo obsahuje 5 tried pomocou ktorých je možné definovať model:\n",
    "- Set\n",
    "- Param\n",
    "- Var\n",
    "- Objective\n",
    "- Constraint"
   ]
  },
  {
   "cell_type": "code",
   "execution_count": 42,
   "metadata": {
    "collapsed": false
   },
   "outputs": [],
   "source": [
    "model = ConcreteModel()\n",
    "model.P = Var([0,1], within=NonNegativeIntegers, bounds=(10, 200))\n",
    "\n",
    "opt = SolverFactory(\"glpk\")\n",
    "demands = [100,200,300,250]\n",
    "N = [0,1]\n",
    "c = [10,15]\n",
    "D = 100\n",
    "solutions = []\n",
    "\n",
    "\n",
    "def cost_function(model):\n",
    "    return sum(c[i] * model.P[i] for i in N)\n",
    "\n",
    "model.objective = Objective(rule=cost_function)\n",
    "\n",
    "def constraint_rule(model,i):\n",
    "    return sum(model.P[i] for i in N) == D\n",
    "\n",
    "for demand in demands:\n",
    "    model.const1 = Constraint(expr=sum(model.P[i] for i in N) == demand)\n",
    "    \n",
    "    instance = model.create()\n",
    "    results = opt.solve(instance)\n",
    "    solutions.append([v['Value'] for k,v in results.solution.variable.items()])\n",
    "    \n",
    "    model.del_component(model.const1)"
   ]
  },
  {
   "cell_type": "code",
   "execution_count": 43,
   "metadata": {
    "collapsed": false
   },
   "outputs": [
    {
     "data": {
      "text/plain": [
       "[[10.0, 90.0], [10.0, 190.0], [100.0, 200.0], [50.0, 200.0]]"
      ]
     },
     "execution_count": 43,
     "metadata": {},
     "output_type": "execute_result"
    }
   ],
   "source": [
    "solutions"
   ]
  },
  {
   "cell_type": "code",
   "execution_count": null,
   "metadata": {
    "collapsed": true
   },
   "outputs": [],
   "source": []
  }
 ],
 "metadata": {
  "anaconda-cloud": {},
  "kernelspec": {
   "display_name": "Python [conda root]",
   "language": "python",
   "name": "conda-root-py"
  },
  "language_info": {
   "codemirror_mode": {
    "name": "ipython",
    "version": 3
   },
   "file_extension": ".py",
   "mimetype": "text/x-python",
   "name": "python",
   "nbconvert_exporter": "python",
   "pygments_lexer": "ipython3",
   "version": "3.5.2"
  }
 },
 "nbformat": 4,
 "nbformat_minor": 1
}
