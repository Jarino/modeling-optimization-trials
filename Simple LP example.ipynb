{
 "cells": [
  {
   "cell_type": "markdown",
   "metadata": {},
   "source": [
    "# Jednoduchý LP problém\n"
   ]
  },
  {
   "cell_type": "code",
   "execution_count": 1,
   "metadata": {
    "collapsed": false
   },
   "outputs": [],
   "source": [
    "from pyomo.environ import *\n",
    "from coopr.pyomo import *"
   ]
  },
  {
   "cell_type": "markdown",
   "metadata": {},
   "source": [
    "Pyomo poskytuje dve triedy ktoré reprezentujú model, a to `AbstractModel` a `ConcreteModel`. Rozdiel je (aspoň myslím) v tom, že v konkrétnom modeli už máme zadefinované parametre.\n",
    "\n",
    "Pyomo obsahuje 5 tried pomocou ktorých je možné definovať model:\n",
    "- Set\n",
    "- Param\n",
    "- Var\n",
    "- Objective\n",
    "- Constraint\n",
    "\n",
    "Nasleduje základná definícia modelu. Najprv vytvoríme prázdny model a potom zadefinujeme dve rozhodovacie premenné P, si IDčkami 0 a 1 (zároveň aj indexy), s obmedzeniami na kladné celé čísla a v intervale 10 až 200."
   ]
  },
  {
   "cell_type": "code",
   "execution_count": 2,
   "metadata": {
    "collapsed": false
   },
   "outputs": [],
   "source": [
    "model = ConcreteModel()\n",
    "model.P = Var([0,1], within=NonNegativeIntegers, bounds=(10, 200))"
   ]
  },
  {
   "cell_type": "markdown",
   "metadata": {},
   "source": [
    "Vektor N hovorí o indexoch našich premených (cez tento vektor budeme iterovať a používať jeho hodnoty ako indexy).\n",
    "c je vektor, ktorý určuje parametre pre jednotlivé rozhodovacie premenné.\n",
    "D je premenná ktorú používame v jednom z obmedzení."
   ]
  },
  {
   "cell_type": "code",
   "execution_count": 3,
   "metadata": {
    "collapsed": false
   },
   "outputs": [],
   "source": [
    "N = [0,1]\n",
    "c = [10,15]\n",
    "D = 100\n",
    "solutions = []\n",
    "\n",
    "\n",
    "def cost_function(model):\n",
    "    return sum(c[i] * model.P[i] for i in N)\n",
    "\n",
    "model.objective = Objective(rule=cost_function)\n",
    "\n",
    "def constraint_rule(model,i):\n",
    "    return sum(model.P[i] for i in N) == D\n",
    "\n",
    "model.const1 = Constraint(expr=sum(model.P[i] for i in N) == D)\n",
    "\n"
   ]
  },
  {
   "cell_type": "code",
   "execution_count": 4,
   "metadata": {
    "collapsed": false
   },
   "outputs": [],
   "source": [
    "instance = model.create()\n",
    "opt = SolverFactory(\"glpk\")\n",
    "results = opt.solve(instance)"
   ]
  },
  {
   "cell_type": "markdown",
   "metadata": {},
   "source": [
    "## Korektnejší zápis modelu\n",
    "\n",
    "Príklad hore síce funguje, ale parametre máme zadané dosť nešikovne."
   ]
  },
  {
   "cell_type": "code",
   "execution_count": 15,
   "metadata": {
    "collapsed": true
   },
   "outputs": [],
   "source": [
    "model = ConcreteModel()\n",
    "model.P = Var([0,1], within=NonNegativeIntegers, bounds=(10,100))"
   ]
  },
  {
   "cell_type": "code",
   "execution_count": 17,
   "metadata": {
    "collapsed": false
   },
   "outputs": [],
   "source": [
    "model.A = Param(initialize=10)\n",
    "model.B = Param(initialize=15)"
   ]
  },
  {
   "cell_type": "code",
   "execution_count": 11,
   "metadata": {
    "collapsed": false
   },
   "outputs": [
    {
     "data": {
      "text/plain": [
       "[]"
      ]
     },
     "execution_count": 11,
     "metadata": {},
     "output_type": "execute_result"
    }
   ],
   "source": [
    "model.objective = Objective(expr=sum(model.P[i] for i in N))"
   ]
  },
  {
   "cell_type": "code",
   "execution_count": null,
   "metadata": {
    "collapsed": true
   },
   "outputs": [],
   "source": []
  }
 ],
 "metadata": {
  "anaconda-cloud": {},
  "kernelspec": {
   "display_name": "Python [conda root]",
   "language": "python",
   "name": "conda-root-py"
  },
  "language_info": {
   "codemirror_mode": {
    "name": "ipython",
    "version": 3
   },
   "file_extension": ".py",
   "mimetype": "text/x-python",
   "name": "python",
   "nbconvert_exporter": "python",
   "pygments_lexer": "ipython3",
   "version": "3.5.2"
  }
 },
 "nbformat": 4,
 "nbformat_minor": 1
}
